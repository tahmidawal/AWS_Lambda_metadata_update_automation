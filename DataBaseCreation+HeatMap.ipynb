{
  "nbformat": 4,
  "nbformat_minor": 0,
  "metadata": {
    "colab": {
      "provenance": [],
      "authorship_tag": "ABX9TyPRwk8Rn+y7QoGoUwSyOSL6",
      "include_colab_link": true
    },
    "kernelspec": {
      "name": "python3",
      "display_name": "Python 3"
    },
    "language_info": {
      "name": "python"
    }
  },
  "cells": [
    {
      "cell_type": "markdown",
      "metadata": {
        "id": "view-in-github",
        "colab_type": "text"
      },
      "source": [
        "<a href=\"https://colab.research.google.com/github/tahmidawal/AWS_Lambda_metadata_update_automation/blob/main/DataBaseCreation%2BHeatMap.ipynb\" target=\"_parent\"><img src=\"https://colab.research.google.com/assets/colab-badge.svg\" alt=\"Open In Colab\"/></a>"
      ]
    },
    {
      "cell_type": "code",
      "execution_count": 1,
      "metadata": {
        "id": "VgCV58LtoxTx"
      },
      "outputs": [],
      "source": [
        "import pandas as pd\n",
        "import sqlite3\n"
      ]
    },
    {
      "cell_type": "code",
      "source": [
        "# Adjust the file paths as necessary\n",
        "healthcare_orgs_df = pd.read_csv('/content/healthcare_orgs_usa (2).csv')\n",
        "population_zip_df = pd.read_csv('/content/DECENNIALDHC2020.P1-Data.csv')\n"
      ],
      "metadata": {
        "id": "aqtODFnUo1Ei"
      },
      "execution_count": 20,
      "outputs": []
    },
    {
      "cell_type": "code",
      "source": [
        "# Assuming the correct ZIP code is in the 'NAME' column, formatted like \"ZCTA5 12345\"\n",
        "population_zip_df['Zip_Code'] = population_zip_df['NAME'].str.extract('(\\d{5})')\n",
        "population_zip_df = population_zip_df[['Zip_Code', 'P1_001N']].rename(columns={\"P1_001N\": \"Population\"})\n",
        "\n",
        "# Re-insert the corrected data into the database\n",
        "population_zip_df.to_sql('population_zip', conn, if_exists='replace', index=False)\n"
      ],
      "metadata": {
        "colab": {
          "base_uri": "https://localhost:8080/"
        },
        "id": "HhjKhAtwpAaI",
        "outputId": "f099855e-4563-48d7-fa7c-473960e6d788"
      },
      "execution_count": 21,
      "outputs": [
        {
          "output_type": "execute_result",
          "data": {
            "text/plain": [
              "33775"
            ]
          },
          "metadata": {},
          "execution_count": 21
        }
      ]
    },
    {
      "cell_type": "code",
      "source": [
        "# Create or connect to a SQLite database\n",
        "conn = sqlite3.connect('healthcare_population.db')\n",
        "\n",
        "# Create tables in the database\n",
        "conn.execute(\"\"\"\n",
        "    CREATE TABLE IF NOT EXISTS healthcare_orgs (\n",
        "        City TEXT,\n",
        "        Location TEXT,\n",
        "        Name TEXT,\n",
        "        Address TEXT,\n",
        "        Zip_Code TEXT,\n",
        "        Place_ID TEXT,\n",
        "        Latitude REAL,\n",
        "        Longitude REAL,\n",
        "        Rating REAL,\n",
        "        User_Ratings_Total INTEGER,\n",
        "        Website TEXT,\n",
        "        Phone_Number TEXT,\n",
        "        Description TEXT\n",
        "    )\n",
        "\"\"\")\n",
        "\n",
        "conn.execute(\"\"\"\n",
        "    CREATE TABLE IF NOT EXISTS population_zip (\n",
        "        Zip_Code TEXT,\n",
        "        Population INTEGER\n",
        "    )\n",
        "\"\"\")\n"
      ],
      "metadata": {
        "colab": {
          "base_uri": "https://localhost:8080/"
        },
        "id": "4AtmanGhpDpC",
        "outputId": "eaae8dc4-7f0a-4d2e-e122-1ac8b18fca53"
      },
      "execution_count": 22,
      "outputs": [
        {
          "output_type": "execute_result",
          "data": {
            "text/plain": [
              "<sqlite3.Cursor at 0x7ba926e84fc0>"
            ]
          },
          "metadata": {},
          "execution_count": 22
        }
      ]
    },
    {
      "cell_type": "code",
      "source": [
        "# Insert data into the tables\n",
        "healthcare_orgs_df.to_sql('healthcare_orgs', conn, if_exists='replace', index=False)\n",
        "population_zip_df.to_sql('population_zip', conn, if_exists='replace', index=False)\n"
      ],
      "metadata": {
        "colab": {
          "base_uri": "https://localhost:8080/"
        },
        "id": "CxzH41XSpHTe",
        "outputId": "5e6c8137-406a-4cce-b0ba-99195c93a5ff"
      },
      "execution_count": 23,
      "outputs": [
        {
          "output_type": "execute_result",
          "data": {
            "text/plain": [
              "33775"
            ]
          },
          "metadata": {},
          "execution_count": 23
        }
      ]
    },
    {
      "cell_type": "code",
      "source": [
        "# Query to check sample data from healthcare_orgs\n",
        "print(pd.read_sql(\"SELECT * FROM healthcare_orgs LIMIT 5\", conn))\n",
        "\n",
        "# Query to check sample data from population_zip\n",
        "print(pd.read_sql(\"SELECT * FROM population_zip LIMIT 5\", conn))\n"
      ],
      "metadata": {
        "colab": {
          "base_uri": "https://localhost:8080/"
        },
        "id": "buDqlfhhsRdt",
        "outputId": "e57084eb-f91c-41cb-d995-c7742dc12e6e"
      },
      "execution_count": 24,
      "outputs": [
        {
          "output_type": "stream",
          "name": "stdout",
          "text": [
            "           City                   Location  \\\n",
            "0  Aberdeen, NC  hospitals in Aberdeen, NC   \n",
            "1  Aberdeen, NC  hospitals in Aberdeen, NC   \n",
            "2  Aberdeen, NC  hospitals in Aberdeen, NC   \n",
            "3  Aberdeen, NC  hospitals in Aberdeen, NC   \n",
            "4  Aberdeen, NC  hospitals in Aberdeen, NC   \n",
            "\n",
            "                                             Name  \\\n",
            "0             FirstHealth Moore Regional Hospital   \n",
            "1               PORT Health | Aberdeen Adolescent   \n",
            "2                             FastMed Urgent Care   \n",
            "3  FirstHealth Moore Regional Hospital - Richmond   \n",
            "4   Pinehurst Medical Clinic Primary Care - South   \n",
            "\n",
            "                                             Address  Zip Code  \\\n",
            "0  155 Memorial Dr, Pinehurst, NC 28374, United S...   28374.0   \n",
            "1   206 N Pine St, Aberdeen, NC 28315, United States   28315.0   \n",
            "2  1800 N Sandhills Blvd, Aberdeen, NC 28315, Uni...   28315.0   \n",
            "3  925 S Long Dr, Rockingham, NC 28379, United St...   28379.0   \n",
            "4  1902 N Sandhills Blvd, Aberdeen, NC 28315, Uni...   28315.0   \n",
            "\n",
            "                      Place ID   Latitude  Longitude  Rating  \\\n",
            "0  ChIJv-0cre-zVIgRwsnHenmpmgo  35.206227 -79.457014     2.7   \n",
            "1  ChIJN_hGUKa1VIgRT0bZAEJWFn4  35.132332 -79.424015     2.5   \n",
            "2  ChIJdSC1yPq0VIgRQXb_VP0eDNM  35.154512 -79.414627     4.4   \n",
            "3  ChIJM8Ggx43nVIgRKPtNtQS0fMg  34.928787 -79.750220     2.9   \n",
            "4  ChIJNTvI-e-0VIgRn8H1my8LuuQ  35.156338 -79.413467     4.9   \n",
            "\n",
            "   User Ratings Total                                            Website  \\\n",
            "0               333.0  https://www.firsthealth.org/directory/hospital...   \n",
            "1                 2.0                        https://www.porthealth.org/   \n",
            "2               681.0  https://www.fastmed.com/urgent-care-centers/ab...   \n",
            "3                68.0  https://www.firsthealth.org/directory/hospital...   \n",
            "4               153.0  https://www.pinehurstmedical.com/locations/sou...   \n",
            "\n",
            "     Phone Number                                        Description  \n",
            "0  (910) 715-1000  hospital, health, point_of_interest, establish...  \n",
            "1  (910) 944-2189           health, point_of_interest, establishment  \n",
            "2  (910) 724-2334           health, point_of_interest, establishment  \n",
            "3  (910) 417-3000  hospital, health, point_of_interest, establish...  \n",
            "4  (910) 692-4011           health, point_of_interest, establishment  \n",
            "  Zip_Code Population\n",
            "0     None    !!Total\n",
            "1    00601      17242\n",
            "2    00602      37548\n",
            "3    00603      49804\n",
            "4    00606       5009\n"
          ]
        }
      ]
    },
    {
      "cell_type": "code",
      "source": [
        "# Corrected SQL query to calculate the number of clinics per ZIP code\n",
        "query = \"\"\"\n",
        "    SELECT h.[Zip Code] AS Zip_Code, COUNT(*) AS Clinics_Count, p.Population\n",
        "    FROM healthcare_orgs h\n",
        "    JOIN population_zip p ON h.[Zip Code] = p.Zip_Code\n",
        "    GROUP BY h.[Zip Code]\n",
        "\"\"\"\n",
        "\n",
        "clinics_per_zip_df = pd.read_sql(query, conn)\n",
        "\n"
      ],
      "metadata": {
        "id": "O4sYBBpwpJBM"
      },
      "execution_count": 26,
      "outputs": []
    },
    {
      "cell_type": "code",
      "source": [
        "clinics_per_zip_df.to_sql('clinics_per_zip_df', conn, if_exists='replace', index=False)\n"
      ],
      "metadata": {
        "colab": {
          "base_uri": "https://localhost:8080/"
        },
        "id": "juMMztINpLdm",
        "outputId": "1080ce95-a2b5-45e1-e85c-0db493740f08"
      },
      "execution_count": 28,
      "outputs": [
        {
          "output_type": "execute_result",
          "data": {
            "text/plain": [
              "700"
            ]
          },
          "metadata": {},
          "execution_count": 28
        }
      ]
    },
    {
      "cell_type": "code",
      "source": [
        "conn.close()\n"
      ],
      "metadata": {
        "id": "SqzAMHX-rbx_"
      },
      "execution_count": 29,
      "outputs": []
    },
    {
      "cell_type": "code",
      "source": [
        "import pandas as pd\n",
        "import folium\n",
        "from folium.plugins import HeatMap\n",
        "import sqlite3\n",
        "\n",
        "# Connect to the SQLite database\n",
        "conn = sqlite3.connect('healthcare_population.db')\n",
        "\n",
        "# Load the data from the database\n",
        "healthcare_data = pd.read_sql(\"SELECT * FROM healthcare_orgs\", conn)\n",
        "clinics_per_zip_df = pd.read_sql(\"SELECT * FROM clinics_per_zip_df\", conn)\n",
        "\n",
        "# Calculate average latitude and longitude for each ZIP code\n",
        "# Use the correct column name here\n",
        "avg_lat_lon = healthcare_data.groupby('Zip Code').agg({'Latitude': 'mean', 'Longitude': 'mean'}).reset_index()\n",
        "\n",
        "# Rename the column to match the column in clinics_per_zip_df for merging\n",
        "avg_lat_lon = avg_lat_lon.rename(columns={'Zip Code': 'Zip_Code'})\n",
        "\n",
        "# Merge this with the clinics_per_zip_df\n",
        "clinics_per_zip_df = clinics_per_zip_df.merge(avg_lat_lon, on='Zip_Code', how='left')\n",
        "\n",
        "# Create a map object, starting at a central location\n",
        "mymap = folium.Map(location=[37.0902, -95.7129], zoom_start=4)  # USA central coordinates\n",
        "\n",
        "# Prepare data for the heatmap\n",
        "heatmap_data = clinics_per_zip_df[['Latitude', 'Longitude', 'Clinics_Count']].values.tolist()\n",
        "\n",
        "# Add the heatmap layer\n",
        "HeatMap(heatmap_data).add_to(mymap)\n",
        "\n",
        "# Save or display the map\n",
        "mymap.save('healthcare_orgs_with_heatmap.html')  # Change the path as needed\n",
        "\n",
        "# Close the database connection\n",
        "conn.close()\n"
      ],
      "metadata": {
        "id": "DB9ztWKdt90o"
      },
      "execution_count": 34,
      "outputs": []
    },
    {
      "cell_type": "code",
      "source": [
        "import pandas as pd\n",
        "import folium\n",
        "from folium.plugins import HeatMap\n",
        "import sqlite3\n",
        "\n",
        "# Connect to the SQLite database\n",
        "conn = sqlite3.connect('healthcare_population.db')\n",
        "\n",
        "# Load the data from the database\n",
        "healthcare_data = pd.read_sql(\"SELECT * FROM healthcare_orgs\", conn)\n",
        "clinics_per_zip_df = pd.read_sql(\"SELECT * FROM clinics_per_zip_df\", conn)\n",
        "\n",
        "# Calculate average latitude and longitude for each ZIP code\n",
        "avg_lat_lon = healthcare_data.groupby('Zip Code').agg({'Latitude': 'mean', 'Longitude': 'mean'}).reset_index()\n",
        "\n",
        "# Rename the column to match the column in clinics_per_zip_df for merging\n",
        "avg_lat_lon = avg_lat_lon.rename(columns={'Zip Code': 'Zip_Code'})\n",
        "\n",
        "# Merge this with the clinics_per_zip_df\n",
        "clinics_per_zip_df = clinics_per_zip_df.merge(avg_lat_lon, on='Zip_Code', how='left')\n",
        "\n",
        "# Create a map object, starting at a central location\n",
        "mymap = folium.Map(location=[37.0902, -95.7129], zoom_start=4)  # USA central coordinates\n",
        "\n",
        "# Loop through the healthcare data and add markers for each clinic\n",
        "for idx, row in healthcare_data.iterrows():\n",
        "    popup_text = f\"{row['Name']}<br>Rating: {row['Rating']}<br>{row['Address']}\"\n",
        "    folium.Marker(\n",
        "        location=[row['Latitude'], row['Longitude']],\n",
        "        popup=popup_text,\n",
        "        icon=folium.Icon(icon=\"plus\", color=\"blue\")\n",
        "    ).add_to(mymap)\n",
        "\n",
        "# Loop through the clinics_per_zip_df and add popups for the number of clinics in each ZIP code\n",
        "for idx, row in clinics_per_zip_df.iterrows():\n",
        "    popup_text = f\"ZIP Code: {row['Zip_Code']}<br>Clinics Count: {row['Clinics_Count']}\"\n",
        "    folium.Marker(\n",
        "        location=[row['Latitude'], row['Longitude']],\n",
        "        popup=popup_text,\n",
        "        icon=folium.Icon(icon=\"info-sign\", color=\"red\")\n",
        "    ).add_to(mymap)\n",
        "\n",
        "# Prepare data for the heatmap\n",
        "heatmap_data = clinics_per_zip_df[['Latitude', 'Longitude', 'Clinics_Count']].values.tolist()\n",
        "\n",
        "# Add the heatmap layer\n",
        "HeatMap(heatmap_data).add_to(mymap)\n",
        "\n",
        "# Save or display the map\n",
        "mymap.save('healthcare_orgs_with_heatmap.html')  # Change the path as needed\n",
        "\n",
        "# Close the database connection\n",
        "conn.close()\n"
      ],
      "metadata": {
        "id": "j9Uqtsvjuz0W"
      },
      "execution_count": 36,
      "outputs": []
    },
    {
      "cell_type": "code",
      "source": [
        "import pandas as pd\n",
        "import folium\n",
        "from folium.plugins import HeatMap, MarkerCluster\n",
        "import sqlite3\n",
        "\n",
        "# Connect to the SQLite database\n",
        "conn = sqlite3.connect('healthcare_population.db')\n",
        "\n",
        "# Load the data from the database\n",
        "healthcare_data = pd.read_sql(\"SELECT * FROM healthcare_orgs\", conn)\n",
        "clinics_per_zip_df = pd.read_sql(\"SELECT * FROM clinics_per_zip_df\", conn)\n",
        "\n",
        "# Calculate average latitude and longitude for each ZIP code\n",
        "avg_lat_lon = healthcare_data.groupby('Zip Code').agg({'Latitude': 'mean', 'Longitude': 'mean'}).reset_index()\n",
        "\n",
        "# Rename the column to match the column in clinics_per_zip_df for merging\n",
        "avg_lat_lon = avg_lat_lon.rename(columns={'Zip Code': 'Zip_Code'})\n",
        "\n",
        "# Merge this with the clinics_per_zip_df\n",
        "clinics_per_zip_df = clinics_per_zip_df.merge(avg_lat_lon, on='Zip_Code', how='left')\n",
        "\n",
        "# Create a map object, starting at a central location\n",
        "mymap = folium.Map(location=[37.0902, -95.7129], zoom_start=4)  # USA central coordinates\n",
        "\n",
        "# Create a MarkerCluster object\n",
        "marker_cluster = MarkerCluster().add_to(mymap)\n",
        "\n",
        "# Loop through the healthcare data and add markers to the cluster\n",
        "for idx, row in healthcare_data.iterrows():\n",
        "    popup_text = f\"{row['Name']}<br>Rating: {row['Rating']}<br>{row['Address']}\"\n",
        "    folium.Marker(\n",
        "        location=[row['Latitude'], row['Longitude']],\n",
        "        popup=popup_text\n",
        "    ).add_to(marker_cluster)\n",
        "\n",
        "# Loop through the clinics_per_zip_df and add popups for the number of clinics in each ZIP code\n",
        "for idx, row in clinics_per_zip_df.iterrows():\n",
        "    popup_text = f\"ZIP Code: {row['Zip_Code']}<br>Clinics Count: {row['Clinics_Count']}\"\n",
        "    folium.Marker(\n",
        "        location=[row['Latitude'], row['Longitude']],\n",
        "        popup=popup_text,\n",
        "        icon=folium.Icon(icon=\"info-sign\", color=\"red\")\n",
        "    ).add_to(marker_cluster)\n",
        "\n",
        "# Prepare data for the heatmap\n",
        "heatmap_data = clinics_per_zip_df[['Latitude', 'Longitude', 'Clinics_Count']].values.tolist()\n",
        "\n",
        "# Add the heatmap layer\n",
        "HeatMap(heatmap_data).add_to(mymap)\n",
        "\n",
        "# Save or display the map\n",
        "mymap.save('healthcare_orgs_with_heatmap.html')  # Change the path as needed\n",
        "\n",
        "# Close the database connection\n",
        "conn.close()\n"
      ],
      "metadata": {
        "id": "zh942T5nvd0q"
      },
      "execution_count": 37,
      "outputs": []
    },
    {
      "cell_type": "code",
      "source": [],
      "metadata": {
        "id": "oo7pJquhxEyD"
      },
      "execution_count": null,
      "outputs": []
    }
  ]
}